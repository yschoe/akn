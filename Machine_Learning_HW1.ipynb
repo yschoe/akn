{
  "nbformat": 4,
  "nbformat_minor": 0,
  "metadata": {
    "colab": {
      "name": "Machine Learning HW1.ipynb",
      "provenance": [],
      "collapsed_sections": [],
      "include_colab_link": true
    },
    "kernelspec": {
      "name": "python3",
      "display_name": "Python 3"
    }
  },
  "cells": [
    {
      "cell_type": "markdown",
      "metadata": {
        "id": "view-in-github",
        "colab_type": "text"
      },
      "source": [
        "<a href=\"https://colab.research.google.com/github/yschoe/akn/blob/master/Machine_Learning_HW1.ipynb\" target=\"_parent\"><img src=\"https://colab.research.google.com/assets/colab-badge.svg\" alt=\"Open In Colab\"/></a>"
      ]
    },
    {
      "cell_type": "markdown",
      "metadata": {
        "id": "KVIzCUdsHJf9"
      },
      "source": [
        "\r\n",
        "# CSCE421 Spring 2021 (Total 100 pts)\r\n",
        "\r\n",
        "**Machine Learning**\r\n",
        "\r\n",
        "**Homework 1**\r\n",
        "\r\n",
        "Instructor: Yoonsuck Choe\r\n",
        "\r\n",
        "Jan 19, 2021\r\n",
        "\r\n",
        "\r\n",
        "---\r\n",
        "\r\n"
      ]
    },
    {
      "cell_type": "markdown",
      "metadata": {
        "id": "ZcLTh-TG3uaE"
      },
      "source": [
        "**Student name: ** Lastname, Firstname\n",
        "\n",
        "\n",
        "---"
      ]
    },
    {
      "cell_type": "markdown",
      "metadata": {
        "id": "qxuMldsVKyjt"
      },
      "source": [
        "# Common instructions (Read carefully)\n"
      ]
    },
    {
      "cell_type": "markdown",
      "metadata": {
        "id": "NQ09vRUj3kvt"
      },
      "source": [
        "**Submission:**\n",
        "\n",
        "1. After you complete each section, \"Save and pin\" the revision. (**File -> Save and pin revision**). \n",
        "> There will be a 20-point penalty for not including revision history in the submission as instructed below.\n",
        "2. When you're ready to submit, \n",
        "> 1. download the ipynb file (**File -> Download .ipynb**).\n",
        "> 2. take screenshot of revision history, by comparing each successive pinned revisions (there will be several of these: final vs. latest pin, latest pin vs. previous pin, etc.). (**File -> Revision history**, then click on the radio buttons for pinned revisions to compare. Scroll down to the part that shows the major revised part, and take a screenshot. No need to show the entire revision history.)\n",
        "> 3. submit a zip file **lastname-firstname.zip** containing the ipynb file and all revision screenshots.\n",
        "\n",
        "**Using the markup language in the \"text\" boxes:**\n",
        "\n",
        "Note: See https://colab.research.google.com/notebooks/markdown_guide.ipynb#scrollTo=70pYkR9LiOV0 for how to use the markdown when writing your answer in the text boxes.\n"
      ]
    },
    {
      "cell_type": "code",
      "metadata": {
        "id": "TDYC63EbT1BJ"
      },
      "source": [
        "# import some necessary packages \r\n",
        "import numpy as np\r\n",
        "import matplotlib.pyplot as plt\r\n"
      ],
      "execution_count": 97,
      "outputs": []
    },
    {
      "cell_type": "markdown",
      "metadata": {
        "id": "iwVHXW2ppfSs"
      },
      "source": [
        "# Section I. Supervised Learning"
      ]
    },
    {
      "cell_type": "markdown",
      "metadata": {
        "id": "euhLzgf-pieu"
      },
      "source": [
        "**Problem 1 (Written: 10 pts):**\r\n",
        "Theorem: [Haussler, 1988] If the hypothesis space $H$ is finite, and $D$ is a sequence of $m \\ge 1$ independent random examples of some target concept $c$, then for any $0 \\le \\epsilon \\le 1$, the probability that the version space with respect to $H$ and $D$ is not $\\epsilon$-exhausted (with respect to c) is less than\r\n",
        "\r\n",
        "$$|H|e^{-\\epsilon m}$$\r\n",
        "\r\n",
        "This bounds the probability that any consistent learner will output a hypothesis $h$ with $error(h) \\ge \\epsilon$ If we want this probability to be below $\\delta$\r\n",
        "\r\n",
        "$$|H|e^{-\\epsilon m} \\le \\delta \\tag{1}$$  \r\n",
        "\r\n",
        "then\r\n",
        "\r\n",
        "$$m \\ge \\frac{1}{\\epsilon}(ln(H) + ln(\\frac{1}{\\delta})) \\tag{2}$$\r\n",
        "\r\n",
        "(1) **GRAD** Show how we can get to Eq.2 from Eq.1. Show all the steps.\r\n",
        "\r\n",
        "(2) Discuss how m increases or decreases as $\\epsilon$ and $\\delta$ change.\r\n",
        "\r\n",
        "> - | Mark one choice | Discuss the implications\r\n",
        ">--- | --- | --- \r\n",
        ">If $\\epsilon$ increases | then $m$ will ($\\uparrow$,  $\\downarrow)$ |\r\n",
        ">If $\\delta$ increases | then $m$ will ($\\uparrow$, $\\downarrow$) |\r\n",
        ">Given a fixed $m$, if $\\delta$ decreases | then $\\epsilon$ can ($\\uparrow$,  $\\downarrow$) |\r\n"
      ]
    },
    {
      "cell_type": "markdown",
      "metadata": {
        "id": "nTfw0SVDdbNe"
      },
      "source": [
        "**Answer:**\r\n",
        "\r\n",
        "(1)\r\n",
        "\r\n",
        "(2) \r\n",
        "\r\n"
      ]
    },
    {
      "cell_type": "markdown",
      "metadata": {
        "id": "HwwQqSjJ1Iga"
      },
      "source": [
        "**Problem 2 (Written: 5 pts):**\r\n",
        "\r\n",
        "Mark the correct choice. When $VC(H)$ increases,\r\n",
        "\r\n",
        "(1) Representational power of the hypothesis (increases, decreases).\r\n",
        "\r\n",
        "(2) Sample complexity (increases, decreases).\r\n",
        "\r\n",
        "(3) Explain why the two (representational power and sample complexity) pose a trade-off (improving one worsens the other).\r\n",
        "\r\n"
      ]
    },
    {
      "cell_type": "markdown",
      "metadata": {
        "id": "utU8JS_DwFsh"
      },
      "source": [
        "For grad: prove 4 point cannot be shattered with linear boundary"
      ]
    },
    {
      "cell_type": "markdown",
      "metadata": {
        "id": "QnbIHjJydfDO"
      },
      "source": [
        "**Answer:**\r\n",
        "\r\n",
        "(1)\r\n",
        "\r\n",
        "(2)\r\n",
        "\r\n",
        "(3)\r\n"
      ]
    },
    {
      "cell_type": "markdown",
      "metadata": {
        "id": "YxCLvEm918y2"
      },
      "source": [
        "# Section II. Perceptron"
      ]
    },
    {
      "cell_type": "markdown",
      "metadata": {
        "id": "vOYVoYGg2CrN"
      },
      "source": [
        "**Problem 3 (Written: 10 pts):** Consider the data set in the table below.\r\n",
        "\r\n",
        "(1) Can a single perceptron unit (assume it takes inputs x, y, and has a bias unit, and it outputs a single value) learn the following training set without error?\r\n",
        "First, plot the data to see the class boundaries. First, try plotting it on paper by hand, and then do something like this in Python:\r\n",
        "\r\n",
        "    x = np.array([0 0 0 0 1 1 1 ...])   \t# vector containing x\r\n",
        "\r\n",
        "    y = np.array([0 1 2 3 0 1 2 ...])  \t# vector containing y\r\n",
        "\r\n",
        "    c = np.array([-1 -1 -1 -1 ..... ])\t# vector containing class\r\n",
        "\r\n",
        "    plt.plot(.... \"o\"  .... \"x\")    # plot -- hint, use x[c>0] , y[c<0], etc. \r\n",
        "\r\n",
        "    See below for functioning example code.\r\n",
        "\r\n",
        "(2) Can a two layer perceptrons correctly classify the following training set without error (assuming the weights are correctly assigned somehow) with two hidden units? Can it with three hidden units? Can it with four hidden units? Explain why or why not.\r\n",
        "\r\n",
        "> TABLE\r\n",
        "\r\n",
        "> x | y | class\r\n",
        "> --- | --- | ---\r\n",
        "> 0 | 0 | -1\r\n",
        "> 0 | 1 | -1\r\n",
        "> 0 | 2 | -1\r\n",
        "> 0 | 3 | -1\r\n",
        "> 1 | 0 | -1\r\n",
        "> 1 | 1 | +1\r\n",
        "> 1 | 2 | -1\r\n",
        "> 1 | 3 | -1\r\n",
        "> 2 | 0 | -1\r\n",
        "> 2 | 1 | +1\r\n",
        "> 2 | 2 | +1\r\n",
        "> 2 | 3 | -1\r\n",
        "> 3 | 0 | -1\r\n",
        "> 3 | 1 | +1\r\n",
        "> 3 | 2 | -1\r\n",
        "> 3 | 3 | -1\r\n",
        "> 4 | 0 | -1\r\n",
        "> 4 | 1 | -1\r\n",
        "> 4 | 2 |-1\r\n",
        "> 4 | 3 | -1"
      ]
    },
    {
      "cell_type": "markdown",
      "metadata": {
        "id": "StbvBrgQfbKk"
      },
      "source": [
        "**Answer:**\r\n",
        "\r\n",
        "Either attach a hand-drawn image here, or type in the code below. Then, illustrate your answer.\r\n",
        "\r\n",
        "(1)\r\n",
        "\r\n",
        "(2)\r\n",
        "\r\n"
      ]
    },
    {
      "cell_type": "code",
      "metadata": {
        "colab": {
          "base_uri": "https://localhost:8080/",
          "height": 547
        },
        "id": "vB8A9A6yNmeG",
        "outputId": "ee1f3cc4-7037-4245-9b67-10ae143d24c6"
      },
      "source": [
        "# You can type in the code here for plotting the data above. Replace the array below with the data in the array above. \r\n",
        "#\r\n",
        "# Make sure how you understand how to  turn the table above into a plot like this, manually.\r\n",
        "# Here's an example: \r\n",
        "# x  y   c\r\n",
        "# -  -  --- \r\n",
        "# 0  0  -1  ---> x,y coordinate = (0, 0) : mark this as \"x\"\r\n",
        "# 1  5  +1  ---> x,y coordinate = (1, 5) : mark this as \"o\"\r\n",
        "# 2  1  -1  ... etc\r\n",
        "# 3  2  +1\r\n",
        "x = np.array([0, 1, 2, 3])\r\n",
        "y = np.array([0, 5, 1, 2])\r\n",
        "c = np.array([-1, 1, -1, 1])\r\n",
        "plt.plot(x[c>0],y[c>0],\"o\",x[c<0],y[c<0],\"x\")\r\n",
        "\r\n",
        "#--------------------------------------------------\r\n",
        "# solution : remove before announcing homework \r\n",
        "x = np.array([0, 0, 0, 0, 1, 1, 1, 1, 2, 2, 2, 2, 3, 3, 3, 3, 4, 4, 4, 4])\r\n",
        "y = np.array([0, 1, 2, 3, 0, 1, 2, 3, 0, 1, 2, 3, 0, 1, 2, 3, 0, 1, 2, 3])\r\n",
        "c = np.array([-1, -1, -1, -1, -1, 1, -1, -1, -1, 1, 1, -1, -1, 1, -1, -1, -1, -1, -1, -1])\r\n",
        "\r\n",
        "f  = plt.figure()   # create new figure\r\n",
        "plt.plot(x[c>0],y[c>0],\"o\",x[c<0],y[c<0],\"x\")\r\n"
      ],
      "execution_count": 98,
      "outputs": [
        {
          "output_type": "execute_result",
          "data": {
            "text/plain": [
              "[<matplotlib.lines.Line2D at 0x7fab1de49b38>,\n",
              " <matplotlib.lines.Line2D at 0x7fab1de49c18>]"
            ]
          },
          "metadata": {
            "tags": []
          },
          "execution_count": 98
        },
        {
          "output_type": "display_data",
          "data": {
            "image/png": "[encoded data removed]",
            "text/plain": [
              "<Figure size 432x288 with 1 Axes>"
            ]
          },
          "metadata": {
            "tags": [],
            "needs_background": "light"
          }
        },
        {
          "output_type": "display_data",
          "data": {
            "image/png": "[encoded data removed]",
            "text/plain": [
              "<Figure size 432x288 with 1 Axes>"
            ]
          },
          "metadata": {
            "tags": [],
            "needs_background": "light"
          }
        }
      ]
    },
    {
      "cell_type": "markdown",
      "metadata": {
        "id": "8Pp1PUXo3y_l"
      },
      "source": [
        "# Section III. Gradient Descent"
      ]
    },
    {
      "cell_type": "markdown",
      "metadata": {
        "id": "0tOEHbfy3335"
      },
      "source": [
        "**Problem 4 (Written: 5 pts):** Given an error function \r\n",
        "$$E(w) = (w-2)(w-4.5)(w-5)(w-5.5),$$\r\n",
        "find:\r\n",
        "$$\\frac{\\partial E(w)}{\\partial w}.$$\r\n",
        "Note that this is simply an ordinary derivative $\\frac{dE}{dw}$. Do not use Wolfram Alpha or similar package."
      ]
    },
    {
      "cell_type": "markdown",
      "metadata": {
        "id": "JQr8LcjPgY4P"
      },
      "source": [
        "**Answer:**\r\n",
        "\r\n",
        "$\\frac{\\partial E(w)}{\\partial w} = ...$"
      ]
    },
    {
      "cell_type": "markdown",
      "metadata": {
        "id": "hxS1bmx_4h6_"
      },
      "source": [
        "**Problem 5 UGRAD only (Written: 5 pts):**\r\n",
        "How many minima does $E(w)$ have? You can draw a rough plot from $w=1.9$ to $6$."
      ]
    },
    {
      "cell_type": "code",
      "metadata": {
        "colab": {
          "base_uri": "https://localhost:8080/",
          "height": 282
        },
        "id": "NMDntMakTnSM",
        "outputId": "f16abb78-c83c-4758-8fb8-777f34478b3e"
      },
      "source": [
        "# Example: modify the function\r\n",
        "def E(w):\r\n",
        "  return w*w\r\n",
        "\r\n",
        "w = np.linspace(-1.9,6,50)\r\n",
        "\r\n",
        "plt.plot(w,E(w),\"*-\")"
      ],
      "execution_count": 99,
      "outputs": [
        {
          "output_type": "execute_result",
          "data": {
            "text/plain": [
              "[<matplotlib.lines.Line2D at 0x7fab1ddbbd30>]"
            ]
          },
          "metadata": {
            "tags": []
          },
          "execution_count": 99
        },
        {
          "output_type": "display_data",
          "data": {
            "image/png": "[encoded data removed]",
            "text/plain": [
              "<Figure size 432x288 with 1 Axes>"
            ]
          },
          "metadata": {
            "tags": [],
            "needs_background": "light"
          }
        }
      ]
    },
    {
      "cell_type": "markdown",
      "metadata": {
        "id": "otMV4FGFdvqi"
      },
      "source": [
        "**Answer:**"
      ]
    },
    {
      "cell_type": "markdown",
      "metadata": {
        "id": "E1-VWC_r45nK"
      },
      "source": [
        "**Problem 6 (Written: 5 pts):** With $\\frac{\\partial E(w)}{\\partial w}$ calculated above, if you want to adjust $w$ to minimize $E(w)$, what should $\\Delta w$ be (include the learning rate $\\eta$)? Write the answer as a polynomial function of $w$. (This is trivial, given the answer to problem 4. Be careful with the sign.)"
      ]
    },
    {
      "cell_type": "markdown",
      "metadata": {
        "id": "xoTMQjERc6YI"
      },
      "source": [
        "Answer: \r\n",
        "\r\n",
        "$\\Delta w$ = ...."
      ]
    },
    {
      "cell_type": "markdown",
      "metadata": {
        "id": "k_5-TwAy5cWZ"
      },
      "source": [
        "**Problem 7 (Program: 15 pts):**\r\n",
        "Using the gradient found above, write a short program to\r\n",
        "\r\n",
        "1. Initialize $w$ to a particular value $w_0=...$.\r\n",
        "\r\n",
        "2. Repeat\r\n",
        "$$w \\leftarrow w + \\Delta w $$\r\n",
        "until difference in successive error values $E(w)$ is less than $0.001$. Set $\\eta = 0.05$.\r\n",
        "\r\n",
        "3. If you plot the function within a range of 1.9 and 6, you can see the shape the best. See the example below and a sample code.  \r\n"
      ]
    },
    {
      "cell_type": "code",
      "metadata": {
        "colab": {
          "base_uri": "https://localhost:8080/",
          "height": 299
        },
        "id": "UmHwEcQTWO-i",
        "outputId": "f2d33c05-4204-437c-e703-770018b578d9"
      },
      "source": [
        "# Implement your program here:\r\n",
        "\r\n",
        "# Example program. You can modity/extend this.\r\n",
        "#\r\n",
        "# 1. define function \r\n",
        "# - this is an example (quadratic function) -- you should change it to the function given in problem 4)\r\n",
        "# - also, you need to check for the termination condition, rather than using a fixed number of steps.\r\n",
        "def E2(w):\r\n",
        "  return np.power(w-2.5,2) + 1      # note: np.power() can take scalar or vector as argument.\r\n",
        "\r\n",
        "# 2. define derivative function \r\n",
        "def dE2dw(w):\r\n",
        "  return 2*(w-2.5)\r\n",
        "\r\n",
        "# 3. gradient descent \r\n",
        "\r\n",
        "w = 0.0     # initial value\r\n",
        "eta = 0.05   # learning rate \r\n",
        "\r\n",
        "n = 100 \r\n",
        "\r\n",
        "w_t = np.zeros(n)\r\n",
        "Ew_t = np.zeros(n)\r\n",
        "\r\n",
        "w_t[0]=w\r\n",
        "Ew_t[0]=E2(w)\r\n",
        "\r\n",
        "for i in range(n):\r\n",
        "  w = w - eta * dE2dw(w)     # gradient descent step\r\n",
        "  w_t[i]=w\r\n",
        "  Ew_t[i]=E2(w)\r\n",
        "\r\n",
        "# 4. plot E(w) and the gradient descent steps \r\n",
        "x = np.linspace(0,5,50)\r\n",
        "plt.plot(x,E2(x),\"-\",w_t,Ew_t,\"*\")"
      ],
      "execution_count": 100,
      "outputs": [
        {
          "output_type": "execute_result",
          "data": {
            "text/plain": [
              "[<matplotlib.lines.Line2D at 0x7fab1dd4b1d0>,\n",
              " <matplotlib.lines.Line2D at 0x7fab1dd4b2e8>]"
            ]
          },
          "metadata": {
            "tags": []
          },
          "execution_count": 100
        },
        {
          "output_type": "display_data",
          "data": {
            "image/png": "[encoded data removed]",
            "text/plain": [
              "<Figure size 432x288 with 1 Axes>"
            ]
          },
          "metadata": {
            "tags": [],
            "needs_background": "light"
          }
        }
      ]
    },
    {
      "cell_type": "markdown",
      "metadata": {
        "id": "dFCz2oE45-wy"
      },
      "source": [
        "**Problem 8 (Program: 10 pts):**\r\n",
        "Add momentum to the previous program and repeat the\r\n",
        "experiment, with $w_0 = \\{1, 2, 3, 4.5, 4.75, 6, 8\\}$. Start with momentum rate of $\\alpha=0.1$, and increase it by 0.1 and observe the behavior (stop at $\\alpha=0.9$ and do not increase further) such as the reached minumum being different (local minimum vs. global minimum, etc.). Report when the behavior changes abruptly as you change the momentum rate for the same initial weight condition.\r\n",
        "\r\n",
        "(1) In which case (initial $w$ value) did adding the momentum help? Explain why or why not.\r\n",
        "\r\n",
        "(2) Is there a case (initial $w$ value) where adding the momentum did not help? Explain why or why not.\r\n",
        "\r\n",
        "(3) When the learning rate is small, e.g. $\\eta=0.005$, would the momentum help? Explain why or why not."
      ]
    },
    {
      "cell_type": "code",
      "metadata": {
        "id": "IN5g4p7edLmV"
      },
      "source": [
        "# Write your code here.\r\n",
        "# You can copy and paste the code from above to get started. \r\n",
        "# You don't need to copy the function definitions."
      ],
      "execution_count": 101,
      "outputs": []
    },
    {
      "cell_type": "markdown",
      "metadata": {
        "id": "4jZU5Jjld6Xb"
      },
      "source": [
        "**Answer:**\r\n",
        "\r\n",
        "(1)\r\n",
        "\r\n",
        "(2)\r\n",
        "\r\n",
        "(3) "
      ]
    },
    {
      "cell_type": "markdown",
      "metadata": {
        "id": "3IlEV_oi_P40"
      },
      "source": [
        "**Problem 9 GRAD (Written: 5 pts):**\r\n",
        "Using chain rule, find the gradient for the function $\\sigma(E(w))$ where\r\n",
        "$\\sigma(x) = \\frac{1}{1+\\exp(-x)}$ and $E(w)$ is defined above (Problem 4):\r\n",
        "$$\\frac{d\\sigma(E(w))}{dw}.$$\r\n",
        "Write the answer as a function of $w$. Do not use Wolfram Alpha or similar package (you'll get a mathematically equivalent equation but it will be much more complex). If you do that you will get no credit.\r\n",
        "\r\n",
        "**Hint:** $\\frac{d\\sigma(x)}{dx} = \\sigma(x)(1-\\sigma(x))$.\r\n",
        "\r\n"
      ]
    },
    {
      "cell_type": "markdown",
      "metadata": {
        "id": "_7hqC_RoeGW8"
      },
      "source": [
        "**Answer:**\r\n",
        "\r\n",
        "$\\frac{d \\sigma(E(w))}{dw} = ... $\r\n"
      ]
    },
    {
      "cell_type": "markdown",
      "metadata": {
        "id": "ItoCNvAOAEb4"
      },
      "source": [
        "**Problem 10 GRAD (Written: 10 pts):**\r\n",
        "Consider these two functions of two variables:\r\n",
        "$$E_1(w_1,w_2) = w_1^{~~2} + \\frac{w_2^{~~2}}{9} \\tag{3}$$\r\n",
        "$$E_2(w_1,w_2) = w_1^{~~2} + w_2^{~~2} \\tag{4}$$\r\n",
        "\r\n",
        "(1) Illustrate by hand (or use python) the contour plot of these two functions. Make the $x$ and $y$ range go from $-10$ to $10$, and draw contour lines for $E_i(w_1,w_2)$ in the increment of $20$. (Plot the curves for $E_i(w_1,w_2)=0$,\r\n",
        "$E_i(w_1,w_2)=20$, $E_i(w_1,w_2)=40$, etc.)\r\n",
        "\r\n",
        "(2) Derive the gradient $\\nabla E_1(w_1,w_2)$ and $\\nabla E_2(w_1,w_2)$.\r\n",
        "\r\n",
        "(3) Pick the contour line at $E$ value (z-axis value) of $40$, and draw the gradient vector at $8$ different points on that contour (evenly spaced around the \r\n",
        "contour), based on your derived $\\nabla E_1(w_1,w_2)$ and $\\nabla E_2(w_1,w_2)$.\r\n",
        "\r\n",
        "(4) Starting from $(6,6)$, manually perform (you may use a calculator/program) the first four steps of gradient\r\n",
        "descent (try minimizing $E_i$ while adjusting $w_1$ and $w_2$), with learning rate $\\eta = 0.1$, so that\r\n",
        "$$\\Delta \\vec{w} = -\\eta \\nabla E_i(w_1,w_2), \\mbox{for $i=1,2$},$$\r\n",
        "where $\\vec{w} = (w_1,w_2)$. Illustrate your results and show the calculated\r\n",
        "values of $\\vec{w}$ over time.\r\n",
        "\r\n",
        "(5) Discuss how the behavior differs for the two different functions."
      ]
    },
    {
      "cell_type": "markdown",
      "metadata": {
        "id": "fYcedw-ceXec"
      },
      "source": [
        "**Answer:**\r\n",
        "\r\n",
        "Either attach a hand-drawn image here, or type in the plotting code below. "
      ]
    },
    {
      "cell_type": "code",
      "metadata": {
        "id": "AT14oF1geRu4"
      },
      "source": [
        "# Either use Python to plot, or include hand-drawing above."
      ],
      "execution_count": 102,
      "outputs": []
    },
    {
      "cell_type": "markdown",
      "metadata": {
        "id": "Q0aAuNHUtnb6"
      },
      "source": [
        "# Section IV. Backpropagation"
      ]
    },
    {
      "cell_type": "markdown",
      "metadata": {
        "id": "NP-xvvDHafoa"
      },
      "source": [
        "**Problem 11 (Program: ?? pts):**\r\n",
        "\r\n",
        "For this problem, use Keras with TensorFlow to train the data set shown in Problem 3 from scratch. Experiment with different network configurations, and report the results. \r\n",
        "\r\n",
        "(1) Single layer;\r\n",
        "\r\n",
        "(2) Two layer: 2 hidden units, 3 hidden units, and 4 hidden units.\r\n",
        "\r\n",
        "(3) Analyze the weights and plot the decision boundary (you’ll get a bunch of line equations). Or, alternatively, you can plot the activation value of each hidden or output unit (if you had 3 hidden and 1 output unit, you will need to show 4 such plots in total). For the input, generate a mesh grid of finer grain than the grid in Problem 3 data set (see python example below), and then compute the hidden activity.\r\n",
        "\r\n"
      ]
    },
    {
      "cell_type": "code",
      "metadata": {
        "id": "AAeqxDsZdWiA"
      },
      "source": [
        "# This shows how to create the input vectors in a systematic manner. Suppose a \r\n",
        "# well trained neural network has one hidden layer. This hidden layer has two\r\n",
        "# neurons: weights [w_1, W2]= [[1, 1], [-1, -3]], biases [b_1, b_2] = [-0.3, -0.5]. \r\n",
        "# We want to plot decision boundaries for hidden neurons' output >= 0.\r\n",
        "import numpy as np\r\n",
        "import matplotlib.pyplot as plt\r\n",
        "\r\n",
        "# generate a input meshgrid\r\n",
        "x = np.arange(-1, 1.1, 0.1)\r\n",
        "y = np.arange(-1, 1.1, 0.1)\r\n",
        "xx, yy = np.meshgrid(x, y)   # xx and yy are matrices \r\n",
        "\r\n",
        "# note: for simplicity, here it is assumed that the hidden layer uses linear activation function.\r\n",
        "w11, w12, b1 = 1, 1, -0.3\r\n",
        "w21, w22, b2 = -1, -3, -0.5\r\n",
        "h1 = w11 * xx + w12 * yy + b1\r\n",
        "h2 = w21 * xx + w22 * yy + b2\r\n",
        "\r\n"
      ],
      "execution_count": 117,
      "outputs": []
    },
    {
      "cell_type": "code",
      "metadata": {
        "colab": {
          "base_uri": "https://localhost:8080/",
          "height": 286
        },
        "id": "VL1ldOH3lYHd",
        "outputId": "b380125e-8841-4920-ffe4-345a72c84bba"
      },
      "source": [
        "# plot using imshow\n",
        "# - be careful with x-y range (extent = ...) and the orientation (origin = ...)\n",
        "\n",
        "thresh = 0\n",
        "\n",
        "fig = plt.figure(figsize=[10,4])\n",
        "ax1 = plt.subplot(1, 2, 1)\n",
        "ax2 = plt.subplot(1, 2, 2)\n",
        "\n",
        "plt.sca(ax1)\n",
        "plt.imshow(h1 > thresh, extent=[-1,1,-1,1], origin='lower') \n",
        "\n",
        "plt.sca(ax2)\n",
        "plt.imshow(h2 > thresh, extent=[-1,1,-1,1], origin='lower')\n"
      ],
      "execution_count": 118,
      "outputs": [
        {
          "output_type": "execute_result",
          "data": {
            "text/plain": [
              "<matplotlib.image.AxesImage at 0x7fab221a74e0>"
            ]
          },
          "metadata": {
            "tags": []
          },
          "execution_count": 118
        },
        {
          "output_type": "display_data",
          "data": {
            "image/png": "[encoded data removed]",
            "text/plain": [
              "<Figure size 720x288 with 2 Axes>"
            ]
          },
          "metadata": {
            "tags": [],
            "needs_background": "light"
          }
        }
      ]
    },
    {
      "cell_type": "code",
      "metadata": {
        "id": "a4nbUX9FYJTJ"
      },
      "source": [
        "# Simple functioning code for the XOR problem. \n",
        "# - You will have to use the data from problem 3 to modify the code below.\n",
        "# - You may also have to change some other parts, like learning rate, number of epochs, batch size, etc.\n",
        "# - experiment with it. \n",
        "\n",
        "import numpy as np\n",
        "import keras\n",
        "from keras.models import Sequential\n",
        "from keras.layers import Dense\n",
        "from keras.models import Model\n",
        "\n",
        "# config\n",
        "eta  = 0.1          # learning rate \n",
        "num_epochs = 1000\n",
        "b_size = 4   # batch size\n",
        "\n",
        "# data\n",
        "x_train = np.array([[-1,-1],[-1,1],[1,-1],[1,1]])\n",
        "y_train = np.array([-1,1,1,-1])\n",
        "x_test = x_train\n",
        "y_test = y_train\n",
        "\n",
        "# define model architecture\n",
        "model = Sequential()\n",
        "model.add(Dense(2, input_dim=2, activation='tanh'))   # add hidden layer\n",
        "model.add(Dense(1, activation='tanh'))  # add output layer \n",
        "\n",
        "# optimizer\n",
        "opt = keras.optimizers.Adam(learning_rate=eta)\n",
        "\n",
        "# build model \n",
        "model.compile(loss='mean_squared_error',\n",
        "\t\toptimizer=opt,\n",
        "\t\tmetrics=['accuracy'])\n",
        "\n",
        "# train & evaluate \n",
        "model.fit(x_train,y_train, epochs=num_epochs, batch_size=b_size)\n",
        "score = model.evaluate(x_test, y_test, batch_size=b_size)\n",
        "\n",
        "# retrieve results \n",
        "x_test = x_train\n",
        "\n",
        "final = Model(inputs=model.input, outputs=model.layers[1].output)\n",
        "final_output = final.predict(x_test)\n",
        "\n",
        "print(final_output)\n",
        "\n"
      ],
      "execution_count": null,
      "outputs": []
    },
    {
      "cell_type": "code",
      "metadata": {
        "id": "-aCaSKL0b24Y"
      },
      "source": [
        "# Generate mesh of (x,y) values to test.\n",
        "# - although we used only -1 and 1 in training, we can plug in input in the full -1:1 range.\n",
        "\n",
        "n=xx.size   ## xx and yy are meshgrids defined above, right below Problem 11 description. \n",
        "\n",
        "mesh_input = np.concatenate((xx.reshape(n,1),yy.reshape(n,1)),1)  # construct n x 2 array as input."
      ],
      "execution_count": 110,
      "outputs": []
    },
    {
      "cell_type": "code",
      "metadata": {
        "colab": {
          "base_uri": "https://localhost:8080/",
          "height": 537
        },
        "id": "BnuMaXLeamwg",
        "outputId": "30b08d5f-fd5f-4b7f-d839-b94a15f38348"
      },
      "source": [
        "# Retrieve hidden layer activity\n",
        "\n",
        "layer_to_show = 0       # 0 = first hidden, 1 = second hidden (or output, depending on the model architecture), etc. \n",
        "\n",
        "final = Model(inputs=model.input, outputs=model.layers[layer_to_show].output)\n",
        "final_output = final.predict(mesh_input)  # this includes all hidden layer activities\n",
        "\n",
        "# first hidden unit: final_output[0:,0] retrieves all 1st hidden unit activation values \n",
        "plt.matshow(final_output[0:,0].reshape(21,21),extent=[-1,1,-1,1], origin='lower')  \n",
        "plt.show()\n",
        "\n",
        "# second hidden unit: similar to the above, but now it is thresholded, to clearly show the boundary \n",
        "thresh = 0\n",
        "plt.matshow(final_output[0:,1].reshape(21,21)>thresh,extent=[-1,1,-1,1], origin='lower')\n",
        "plt.show()\n"
      ],
      "execution_count": 113,
      "outputs": [
        {
          "output_type": "display_data",
          "data": {
            "image/png": "[encoded data removed]",
            "text/plain": [
              "<Figure size 288x288 with 1 Axes>"
            ]
          },
          "metadata": {
            "tags": [],
            "needs_background": "light"
          }
        },
        {
          "output_type": "display_data",
          "data": {
            "image/png": "[encoded data removed]",
            "text/plain": [
              "<Figure size 288x288 with 1 Axes>"
            ]
          },
          "metadata": {
            "tags": [],
            "needs_background": "light"
          }
        }
      ]
    },
    {
      "cell_type": "markdown",
      "metadata": {
        "id": "QF91F62EvyhY"
      },
      "source": [
        "**Problem 12 (Program: ?? pts):** Again, use Keras with TensorFlow. Implement sine function approximation from scratch. The training and test data are generated as below.\r\n",
        "\r\n",
        "(1) Experiment with different network configurations: Two layers (5 hidden units, 10 hidden units, 30 hidden units), Three layers (1st hidden layer: 5 hidden units, 2nd hidden layer: 3 hidden units  ; and   1st hidden layer: 20 units, 2nd: 3 units).\r\n",
        "\r\n",
        "(2) Plot each unit's activities in the last hidden layers (right before the output layer) in each of your models. Explain how the different number of hidden layers and number of hidden units affect the accuracy of the model, and how the hidden representations contribute to the final outcome.\r\n",
        "\r\n",
        "(3) Run your models by slightly extending the original test set (for example, input from $[-6\\pi, 6\\pi]$, so that the x-range goes beyond that of the training set). Explain why the out-of-range portions behave in the way that you observe. "
      ]
    },
    {
      "cell_type": "code",
      "metadata": {
        "colab": {
          "base_uri": "https://localhost:8080/",
          "height": 265
        },
        "id": "NnF5grSnxfJ4",
        "outputId": "56b61848-b90a-4961-c9d3-097226d1c66d"
      },
      "source": [
        "x_train = np.arange(-2*np.pi, 2*np.pi, 0.1)\r\n",
        "y_train = np.sin(x_train)\r\n",
        "x_test = x_train\r\n",
        "y_test = y_train\r\n",
        "x_extend = np.arange(-6*np.pi, 6*np.pi, 0.1)\r\n",
        "y_extend = np.sin(x_extend)\r\n",
        "\r\n",
        "plt.figure(figsize=[12, 4])\r\n",
        "ax1 = plt.subplot(1, 2, 1)\r\n",
        "ax2 = plt.subplot(1, 2, 2)\r\n",
        "\r\n",
        "plt.sca(ax1)\r\n",
        "plt.plot(x_train, y_train, marker='.', color='r', linestyle='-')\r\n",
        "plt.grid()\r\n",
        "\r\n",
        "plt.sca(ax2)\r\n",
        "plt.plot(x_extend, y_extend, marker='.', color='b', linestyle='-')\r\n",
        "plt.grid()"
      ],
      "execution_count": 108,
      "outputs": [
        {
          "output_type": "display_data",
          "data": {
            "image/png": "[encoded data removed]",
            "text/plain": [
              "<Figure size 864x288 with 2 Axes>"
            ]
          },
          "metadata": {
            "tags": [],
            "needs_background": "light"
          }
        }
      ]
    },
    {
      "cell_type": "code",
      "metadata": {
        "id": "-EQ9hdDrmyLk"
      },
      "source": [
        "# You can modify the XOR example code above to train and test on the sin(x) data. \n"
      ],
      "execution_count": 109,
      "outputs": []
    }
  ]
}